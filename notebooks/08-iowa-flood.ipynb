{
 "cells": [
  {
   "cell_type": "markdown",
   "metadata": {},
   "source": [
    "## The 2008 Iowa River Flood\n",
    "For this activity I will be exploring the flood that ocurred along the Iowa River in June, 2008. I decided to pick this flood event because it took place during a time when I was in graduate school at the University of Iowa. This flood significantly impacted the University causing millions of dollars in damage to the campus and community in Iowa City. \n",
    "\n",
    "I'll be looking at a USGS gage near IIHR, the College of Engineering's Hydrualics & Hydrology Lab at the Univesity of Iowa and home to the Iowa Flood Center. This is where I attended graduate school for my master's degree and is one of the oldest water resource engineering labs in the United States. \n",
    "\n",
    "\n",
    "Here are some articles about the flood: \n",
    "* [How the University of Iowa Recovered From the ‘Unfathomable’ Flood That Ruined It](https://www.nytimes.com/2019/05/10/climate/iowa-floods-disasters-lessons-learned.html)\n",
    "* [10 years later, the collective memory of the 2008 flood remains](https://dailyiowan.com/2018/06/13/10-years-later-the-collective-memory-of-the-2008-flood-remains/)\n",
    "* [Flood of 2008 caused 'wild scramble' in Iowa City, Coralville](https://www.thegazette.com/government-politics/flood-of-2008-caused-wild-scramble-in-iowa-city-coralville/)\n",
    "* [BTN LIVEBIG: IOWA COLLECTS A 'FLOOD' OF DATA ON WATER LEVELS](https://btn.com/2015/10/09/btn-livebig-iowa-collects-a-flood-of-data-on-water-levels/)\n",
    "* [Floods of May and June 2008 in Iowa (USGS)](https://pubs.usgs.gov/of/2010/1096/pdf/OFR2010-1096.pdf)\n",
    "\n",
    "Here are some images of the flood on the University of Iowa campus, and at IIHR (last photo):\n",
    "![](https://engineering.uiowa.edu/sites/engineering.uiowa.edu/files/styles/ultrawide__2592_x_1111/public/2021-03/field/image/ar-080616-tj-049-1200_0.jpg?h=242cd5c8&itok=I8iWQGGt)\n",
    "\n",
    "![](https://static01.nyt.com/images/2019/05/09/climate/09CLI-IOWAFLOODS-aerial/09CLI-IOWAFLOODS-aerial-superJumbo.jpg?quality=75&auto=webp)\n",
    "\n",
    "![](https://btn.com/wp-content/uploads/2015/10/iowa_floodcenter.jpg)"
   ]
  },
  {
   "cell_type": "code",
   "execution_count": 1,
   "metadata": {},
   "outputs": [],
   "source": [
    "import folium\n",
    "from io import BytesIO\n",
    "import matplotlib.pyplot as plt\n",
    "import matplotlib.dates as dates\n",
    "import os\n",
    "import pathlib\n",
    "import requests\n",
    "import subprocess\n",
    "import pandas as pd\n",
    "\n",
    "from matplotlib.dates import DateFormatter"
   ]
  },
  {
   "cell_type": "code",
   "execution_count": 2,
   "metadata": {},
   "outputs": [
    {
     "data": {
      "text/html": [
       "<div style=\"width:100%;\"><div style=\"position:relative;width:100%;height:0;padding-bottom:60%;\"><span style=\"color:#565656\">Make this Notebook Trusted to load map: File -> Trust Notebook</span><iframe srcdoc=\"&lt;!DOCTYPE html&gt;\n",
       "&lt;html&gt;\n",
       "&lt;head&gt;\n",
       "    \n",
       "    &lt;meta http-equiv=&quot;content-type&quot; content=&quot;text/html; charset=UTF-8&quot; /&gt;\n",
       "    \n",
       "        &lt;script&gt;\n",
       "            L_NO_TOUCH = false;\n",
       "            L_DISABLE_3D = false;\n",
       "        &lt;/script&gt;\n",
       "    \n",
       "    &lt;style&gt;html, body {width: 100%;height: 100%;margin: 0;padding: 0;}&lt;/style&gt;\n",
       "    &lt;style&gt;#map {position:absolute;top:0;bottom:0;right:0;left:0;}&lt;/style&gt;\n",
       "    &lt;script src=&quot;https://cdn.jsdelivr.net/npm/leaflet@1.9.3/dist/leaflet.js&quot;&gt;&lt;/script&gt;\n",
       "    &lt;script src=&quot;https://code.jquery.com/jquery-1.12.4.min.js&quot;&gt;&lt;/script&gt;\n",
       "    &lt;script src=&quot;https://cdn.jsdelivr.net/npm/bootstrap@5.2.2/dist/js/bootstrap.bundle.min.js&quot;&gt;&lt;/script&gt;\n",
       "    &lt;script src=&quot;https://cdnjs.cloudflare.com/ajax/libs/Leaflet.awesome-markers/2.0.2/leaflet.awesome-markers.js&quot;&gt;&lt;/script&gt;\n",
       "    &lt;link rel=&quot;stylesheet&quot; href=&quot;https://cdn.jsdelivr.net/npm/leaflet@1.9.3/dist/leaflet.css&quot;/&gt;\n",
       "    &lt;link rel=&quot;stylesheet&quot; href=&quot;https://cdn.jsdelivr.net/npm/bootstrap@5.2.2/dist/css/bootstrap.min.css&quot;/&gt;\n",
       "    &lt;link rel=&quot;stylesheet&quot; href=&quot;https://netdna.bootstrapcdn.com/bootstrap/3.0.0/css/bootstrap.min.css&quot;/&gt;\n",
       "    &lt;link rel=&quot;stylesheet&quot; href=&quot;https://cdn.jsdelivr.net/npm/@fortawesome/fontawesome-free@6.2.0/css/all.min.css&quot;/&gt;\n",
       "    &lt;link rel=&quot;stylesheet&quot; href=&quot;https://cdnjs.cloudflare.com/ajax/libs/Leaflet.awesome-markers/2.0.2/leaflet.awesome-markers.css&quot;/&gt;\n",
       "    &lt;link rel=&quot;stylesheet&quot; href=&quot;https://cdn.jsdelivr.net/gh/python-visualization/folium/folium/templates/leaflet.awesome.rotate.min.css&quot;/&gt;\n",
       "    \n",
       "            &lt;meta name=&quot;viewport&quot; content=&quot;width=device-width,\n",
       "                initial-scale=1.0, maximum-scale=1.0, user-scalable=no&quot; /&gt;\n",
       "            &lt;style&gt;\n",
       "                #map_dd9730f4d46f7d32a664bf88441209ac {\n",
       "                    position: relative;\n",
       "                    width: 100.0%;\n",
       "                    height: 100.0%;\n",
       "                    left: 0.0%;\n",
       "                    top: 0.0%;\n",
       "                }\n",
       "                .leaflet-container { font-size: 1rem; }\n",
       "            &lt;/style&gt;\n",
       "        \n",
       "&lt;/head&gt;\n",
       "&lt;body&gt;\n",
       "    \n",
       "    \n",
       "            &lt;div class=&quot;folium-map&quot; id=&quot;map_dd9730f4d46f7d32a664bf88441209ac&quot; &gt;&lt;/div&gt;\n",
       "        \n",
       "&lt;/body&gt;\n",
       "&lt;script&gt;\n",
       "    \n",
       "    \n",
       "            var map_dd9730f4d46f7d32a664bf88441209ac = L.map(\n",
       "                &quot;map_dd9730f4d46f7d32a664bf88441209ac&quot;,\n",
       "                {\n",
       "                    center: [41.6566833, -91.541],\n",
       "                    crs: L.CRS.EPSG3857,\n",
       "                    zoom: 10,\n",
       "                    zoomControl: true,\n",
       "                    preferCanvas: false,\n",
       "                    scrollWheelZoom: false,\n",
       "                }\n",
       "            );\n",
       "\n",
       "            \n",
       "\n",
       "        \n",
       "    \n",
       "            var tile_layer_2cca5c8ea060addb1a2c90f73a496273 = L.tileLayer(\n",
       "                &quot;https://{s}.tile.openstreetmap.org/{z}/{x}/{y}.png&quot;,\n",
       "                {&quot;attribution&quot;: &quot;Data by \\u0026copy; \\u003ca target=\\&quot;_blank\\&quot; href=\\&quot;http://openstreetmap.org\\&quot;\\u003eOpenStreetMap\\u003c/a\\u003e, under \\u003ca target=\\&quot;_blank\\&quot; href=\\&quot;http://www.openstreetmap.org/copyright\\&quot;\\u003eODbL\\u003c/a\\u003e.&quot;, &quot;detectRetina&quot;: false, &quot;maxNativeZoom&quot;: 18, &quot;maxZoom&quot;: 18, &quot;minZoom&quot;: 0, &quot;noWrap&quot;: false, &quot;opacity&quot;: 1, &quot;subdomains&quot;: &quot;abc&quot;, &quot;tms&quot;: false}\n",
       "            ).addTo(map_dd9730f4d46f7d32a664bf88441209ac);\n",
       "        \n",
       "    \n",
       "            var marker_60518748d3213a69af016231becf7bde = L.marker(\n",
       "                [41.6566833, -91.541],\n",
       "                {}\n",
       "            ).addTo(map_dd9730f4d46f7d32a664bf88441209ac);\n",
       "        \n",
       "    \n",
       "        var popup_972873c58fe42180c74bac867ce9251d = L.popup({&quot;maxWidth&quot;: &quot;100%&quot;});\n",
       "\n",
       "        \n",
       "            \n",
       "                var html_3bcfa912c98cf34dca3609ca2c1a23d2 = $(`&lt;div id=&quot;html_3bcfa912c98cf34dca3609ca2c1a23d2&quot; style=&quot;width: 100.0%; height: 100.0%;&quot;&gt;USGS River Gage; Iowa River; Iowa City, IA&lt;/div&gt;`)[0];\n",
       "                popup_972873c58fe42180c74bac867ce9251d.setContent(html_3bcfa912c98cf34dca3609ca2c1a23d2);\n",
       "            \n",
       "        \n",
       "\n",
       "        marker_60518748d3213a69af016231becf7bde.bindPopup(popup_972873c58fe42180c74bac867ce9251d)\n",
       "        ;\n",
       "\n",
       "        \n",
       "    \n",
       "&lt;/script&gt;\n",
       "&lt;/html&gt;\" style=\"position:absolute;width:100%;height:100%;left:0;top:0;border:none !important;\" allowfullscreen webkitallowfullscreen mozallowfullscreen></iframe></div></div>"
      ],
      "text/plain": [
       "<folium.folium.Map at 0x7fb9dce47a60>"
      ]
     },
     "execution_count": 2,
     "metadata": {},
     "output_type": "execute_result"
    }
   ],
   "source": [
    "# Folium map of gage location on Iowa River at Iowa City, IA\n",
    "\n",
    "# Define lat/lon of gage location\n",
    "sg_lat = 41.6566833\n",
    "sg_lon = -91.541\n",
    "\n",
    "# Initialize map and tweak settings\n",
    "my_map = folium.Map(\n",
    "    # Location to display\n",
    "    location=(sg_lat, sg_lon),\n",
    "    # Turns off annoying zooming while trying to scroll to the next cell\n",
    "    scrollWheelZoom=False)\n",
    "\n",
    "# Put a marker at the stream gauge location\n",
    "folium.Marker([sg_lat, sg_lon], popup=\"USGS River Gage; Iowa River; Iowa City, IA\").add_to(my_map)\n",
    "\n",
    "# Display the map\n",
    "my_map"
   ]
  },
  {
   "cell_type": "code",
   "execution_count": 3,
   "metadata": {},
   "outputs": [
    {
     "data": {
      "text/plain": [
       "'https://waterdata.usgs.gov/nwis/dv?cb_00060=on&format=rdb&site_no=05454500&legacy=&referred_module=sw&period=&begin_date=1903-06-01&end_date=2023-06-08'"
      ]
     },
     "execution_count": 3,
     "metadata": {},
     "output_type": "execute_result"
    }
   ],
   "source": [
    "# Define URL to data\n",
    "iihr_url = ('https://waterdata.usgs.gov/nwis/dv?cb_00060=on&format=rdb'\n",
    "            '&site_no=05454500&legacy=&referred_module=sw&period='\n",
    "            '&begin_date=1903-06-01&end_date=2023-06-08')\n",
    "iihr_url"
   ]
  },
  {
   "cell_type": "code",
   "execution_count": 4,
   "metadata": {},
   "outputs": [
    {
     "data": {
      "text/plain": [
       "<Response [200]>"
      ]
     },
     "execution_count": 4,
     "metadata": {},
     "output_type": "execute_result"
    }
   ],
   "source": [
    "# Download data using a GET HTTP Request\n",
    "iihr_data = requests.get(iihr_url)\n",
    "iihr_data    "
   ]
  },
  {
   "cell_type": "code",
   "execution_count": 5,
   "metadata": {},
   "outputs": [
    {
     "name": "stdout",
     "output_type": "stream",
     "text": [
      "27 b'agency_cd\\tsite_no\\tdatetime\\t42884_00060_00003\\t42884_00060_00003_cd'\n",
      "28 b'5s\\t15s\\t20d\\t14n\\t10s'\n",
      "29 b'USGS\\t05454500\\t1903-06-01\\t17800\\tA'\n",
      "30 b'USGS\\t05454500\\t1903-06-02\\t21700\\tA'\n",
      "31 b'USGS\\t05454500\\t1903-06-03\\t21700\\tA'\n",
      "32 b'USGS\\t05454500\\t1903-06-04\\t20000\\tA'\n",
      "33 b'USGS\\t05454500\\t1903-06-05\\t18000\\tA'\n",
      "34 b'USGS\\t05454500\\t1903-06-06\\t15600\\tA'\n"
     ]
    }
   ],
   "source": [
    "# Take a look at the data. What got downloaded?\n",
    "for i, line in enumerate(iihr_data.content.splitlines()[:35]):\n",
    "    if not line.startswith(b'#'):\n",
    "        print(i, line)"
   ]
  },
  {
   "cell_type": "code",
   "execution_count": 6,
   "metadata": {},
   "outputs": [
    {
     "data": {
      "text/html": [
       "<div>\n",
       "<style scoped>\n",
       "    .dataframe tbody tr th:only-of-type {\n",
       "        vertical-align: middle;\n",
       "    }\n",
       "\n",
       "    .dataframe tbody tr th {\n",
       "        vertical-align: top;\n",
       "    }\n",
       "\n",
       "    .dataframe thead th {\n",
       "        text-align: right;\n",
       "    }\n",
       "</style>\n",
       "<table border=\"1\" class=\"dataframe\">\n",
       "  <thead>\n",
       "    <tr style=\"text-align: right;\">\n",
       "      <th></th>\n",
       "      <th>Agency</th>\n",
       "      <th>Site ID</th>\n",
       "      <th>Discharge</th>\n",
       "      <th>Code</th>\n",
       "    </tr>\n",
       "    <tr>\n",
       "      <th>Date</th>\n",
       "      <th></th>\n",
       "      <th></th>\n",
       "      <th></th>\n",
       "      <th></th>\n",
       "    </tr>\n",
       "  </thead>\n",
       "  <tbody>\n",
       "    <tr>\n",
       "      <th>1903-06-01</th>\n",
       "      <td>USGS</td>\n",
       "      <td>5454500</td>\n",
       "      <td>17800.0</td>\n",
       "      <td>A</td>\n",
       "    </tr>\n",
       "    <tr>\n",
       "      <th>1903-06-02</th>\n",
       "      <td>USGS</td>\n",
       "      <td>5454500</td>\n",
       "      <td>21700.0</td>\n",
       "      <td>A</td>\n",
       "    </tr>\n",
       "    <tr>\n",
       "      <th>1903-06-03</th>\n",
       "      <td>USGS</td>\n",
       "      <td>5454500</td>\n",
       "      <td>21700.0</td>\n",
       "      <td>A</td>\n",
       "    </tr>\n",
       "    <tr>\n",
       "      <th>1903-06-04</th>\n",
       "      <td>USGS</td>\n",
       "      <td>5454500</td>\n",
       "      <td>20000.0</td>\n",
       "      <td>A</td>\n",
       "    </tr>\n",
       "    <tr>\n",
       "      <th>1903-06-05</th>\n",
       "      <td>USGS</td>\n",
       "      <td>5454500</td>\n",
       "      <td>18000.0</td>\n",
       "      <td>A</td>\n",
       "    </tr>\n",
       "    <tr>\n",
       "      <th>...</th>\n",
       "      <td>...</td>\n",
       "      <td>...</td>\n",
       "      <td>...</td>\n",
       "      <td>...</td>\n",
       "    </tr>\n",
       "    <tr>\n",
       "      <th>2023-06-04</th>\n",
       "      <td>USGS</td>\n",
       "      <td>5454500</td>\n",
       "      <td>1260.0</td>\n",
       "      <td>A</td>\n",
       "    </tr>\n",
       "    <tr>\n",
       "      <th>2023-06-05</th>\n",
       "      <td>USGS</td>\n",
       "      <td>5454500</td>\n",
       "      <td>1350.0</td>\n",
       "      <td>A</td>\n",
       "    </tr>\n",
       "    <tr>\n",
       "      <th>2023-06-06</th>\n",
       "      <td>USGS</td>\n",
       "      <td>5454500</td>\n",
       "      <td>1540.0</td>\n",
       "      <td>A</td>\n",
       "    </tr>\n",
       "    <tr>\n",
       "      <th>2023-06-07</th>\n",
       "      <td>USGS</td>\n",
       "      <td>5454500</td>\n",
       "      <td>1390.0</td>\n",
       "      <td>A</td>\n",
       "    </tr>\n",
       "    <tr>\n",
       "      <th>2023-06-08</th>\n",
       "      <td>USGS</td>\n",
       "      <td>5454500</td>\n",
       "      <td>1110.0</td>\n",
       "      <td>A</td>\n",
       "    </tr>\n",
       "  </tbody>\n",
       "</table>\n",
       "<p>43838 rows × 4 columns</p>\n",
       "</div>"
      ],
      "text/plain": [
       "           Agency  Site ID  Discharge Code\n",
       "Date                                      \n",
       "1903-06-01   USGS  5454500    17800.0    A\n",
       "1903-06-02   USGS  5454500    21700.0    A\n",
       "1903-06-03   USGS  5454500    21700.0    A\n",
       "1903-06-04   USGS  5454500    20000.0    A\n",
       "1903-06-05   USGS  5454500    18000.0    A\n",
       "...           ...      ...        ...  ...\n",
       "2023-06-04   USGS  5454500     1260.0    A\n",
       "2023-06-05   USGS  5454500     1350.0    A\n",
       "2023-06-06   USGS  5454500     1540.0    A\n",
       "2023-06-07   USGS  5454500     1390.0    A\n",
       "2023-06-08   USGS  5454500     1110.0    A\n",
       "\n",
       "[43838 rows x 4 columns]"
      ]
     },
     "execution_count": 6,
     "metadata": {},
     "output_type": "execute_result"
    }
   ],
   "source": [
    "# Open data using pandas\n",
    "iowa_river_flow = pd.read_csv(\n",
    "    BytesIO(iihr_data.content),\n",
    "    comment='#',\n",
    "    delimiter='\\t', \n",
    "    skiprows=[27,28],\n",
    "    names=['Agency', 'Site ID', 'Date', 'Discharge', 'Code'],\n",
    "    index_col='Date',\n",
    "    parse_dates=True,\n",
    ")\n",
    "\n",
    "iowa_river_flow"
   ]
  },
  {
   "cell_type": "code",
   "execution_count": 7,
   "metadata": {},
   "outputs": [
    {
     "data": {
      "image/png": "[encoded data removed]",
      "text/plain": [
       "<Figure size 640x480 with 1 Axes>"
      ]
     },
     "metadata": {},
     "output_type": "display_data"
    }
   ],
   "source": [
    "# Plot the data using .plot\n",
    "iowa_river_flow.plot(y='Discharge',\n",
    "                     ylabel='Discharge (cfs)',\n",
    "                     legend=False,\n",
    "                     xlabel='Year',\n",
    "                     title='Iowa River @ Iowa City, IA (1903-2023)')\n",
    "plt.show()"
   ]
  },
  {
   "cell_type": "code",
   "execution_count": 8,
   "metadata": {},
   "outputs": [
    {
     "data": {
      "text/html": [
       "<div>\n",
       "<style scoped>\n",
       "    .dataframe tbody tr th:only-of-type {\n",
       "        vertical-align: middle;\n",
       "    }\n",
       "\n",
       "    .dataframe tbody tr th {\n",
       "        vertical-align: top;\n",
       "    }\n",
       "\n",
       "    .dataframe thead th {\n",
       "        text-align: right;\n",
       "    }\n",
       "</style>\n",
       "<table border=\"1\" class=\"dataframe\">\n",
       "  <thead>\n",
       "    <tr style=\"text-align: right;\">\n",
       "      <th></th>\n",
       "      <th>Agency</th>\n",
       "      <th>Site ID</th>\n",
       "      <th>Discharge</th>\n",
       "      <th>Code</th>\n",
       "    </tr>\n",
       "    <tr>\n",
       "      <th>Date</th>\n",
       "      <th></th>\n",
       "      <th></th>\n",
       "      <th></th>\n",
       "      <th></th>\n",
       "    </tr>\n",
       "  </thead>\n",
       "  <tbody>\n",
       "    <tr>\n",
       "      <th>2008-01-01</th>\n",
       "      <td>USGS</td>\n",
       "      <td>5454500</td>\n",
       "      <td>1660.0</td>\n",
       "      <td>A</td>\n",
       "    </tr>\n",
       "    <tr>\n",
       "      <th>2008-01-02</th>\n",
       "      <td>USGS</td>\n",
       "      <td>5454500</td>\n",
       "      <td>1490.0</td>\n",
       "      <td>A</td>\n",
       "    </tr>\n",
       "    <tr>\n",
       "      <th>2008-01-03</th>\n",
       "      <td>USGS</td>\n",
       "      <td>5454500</td>\n",
       "      <td>1250.0</td>\n",
       "      <td>A</td>\n",
       "    </tr>\n",
       "    <tr>\n",
       "      <th>2008-01-04</th>\n",
       "      <td>USGS</td>\n",
       "      <td>5454500</td>\n",
       "      <td>1100.0</td>\n",
       "      <td>A</td>\n",
       "    </tr>\n",
       "    <tr>\n",
       "      <th>2008-01-05</th>\n",
       "      <td>USGS</td>\n",
       "      <td>5454500</td>\n",
       "      <td>1110.0</td>\n",
       "      <td>A</td>\n",
       "    </tr>\n",
       "    <tr>\n",
       "      <th>...</th>\n",
       "      <td>...</td>\n",
       "      <td>...</td>\n",
       "      <td>...</td>\n",
       "      <td>...</td>\n",
       "    </tr>\n",
       "    <tr>\n",
       "      <th>2008-12-27</th>\n",
       "      <td>USGS</td>\n",
       "      <td>5454500</td>\n",
       "      <td>2240.0</td>\n",
       "      <td>A</td>\n",
       "    </tr>\n",
       "    <tr>\n",
       "      <th>2008-12-28</th>\n",
       "      <td>USGS</td>\n",
       "      <td>5454500</td>\n",
       "      <td>2330.0</td>\n",
       "      <td>A</td>\n",
       "    </tr>\n",
       "    <tr>\n",
       "      <th>2008-12-29</th>\n",
       "      <td>USGS</td>\n",
       "      <td>5454500</td>\n",
       "      <td>2910.0</td>\n",
       "      <td>A</td>\n",
       "    </tr>\n",
       "    <tr>\n",
       "      <th>2008-12-30</th>\n",
       "      <td>USGS</td>\n",
       "      <td>5454500</td>\n",
       "      <td>5090.0</td>\n",
       "      <td>A</td>\n",
       "    </tr>\n",
       "    <tr>\n",
       "      <th>2008-12-31</th>\n",
       "      <td>USGS</td>\n",
       "      <td>5454500</td>\n",
       "      <td>5230.0</td>\n",
       "      <td>A</td>\n",
       "    </tr>\n",
       "  </tbody>\n",
       "</table>\n",
       "<p>366 rows × 4 columns</p>\n",
       "</div>"
      ],
      "text/plain": [
       "           Agency  Site ID  Discharge Code\n",
       "Date                                      \n",
       "2008-01-01   USGS  5454500     1660.0    A\n",
       "2008-01-02   USGS  5454500     1490.0    A\n",
       "2008-01-03   USGS  5454500     1250.0    A\n",
       "2008-01-04   USGS  5454500     1100.0    A\n",
       "2008-01-05   USGS  5454500     1110.0    A\n",
       "...           ...      ...        ...  ...\n",
       "2008-12-27   USGS  5454500     2240.0    A\n",
       "2008-12-28   USGS  5454500     2330.0    A\n",
       "2008-12-29   USGS  5454500     2910.0    A\n",
       "2008-12-30   USGS  5454500     5090.0    A\n",
       "2008-12-31   USGS  5454500     5230.0    A\n",
       "\n",
       "[366 rows x 4 columns]"
      ]
     },
     "execution_count": 8,
     "metadata": {},
     "output_type": "execute_result"
    }
   ],
   "source": [
    "# Subset data to 2008\n",
    "ia_river_2008 = iowa_river_flow.loc['2008']\n",
    "ia_river_2008"
   ]
  },
  {
   "cell_type": "code",
   "execution_count": 9,
   "metadata": {},
   "outputs": [
    {
     "data": {
      "text/plain": [
       "Agency          USGS\n",
       "Site ID      5454500\n",
       "Discharge    40900.0\n",
       "Code             A:e\n",
       "dtype: object"
      ]
     },
     "execution_count": 9,
     "metadata": {},
     "output_type": "execute_result"
    }
   ],
   "source": [
    "# What is the maximum value of this data?\n",
    "ia_river_2008.max()"
   ]
  },
  {
   "cell_type": "code",
   "execution_count": 10,
   "metadata": {},
   "outputs": [
    {
     "data": {
      "text/plain": [
       "<Axes: xlabel='Date'>"
      ]
     },
     "execution_count": 10,
     "metadata": {},
     "output_type": "execute_result"
    },
    {
     "data": {
      "image/png": "[encoded data removed]",
      "text/plain": [
       "<Figure size 640x480 with 1 Axes>"
      ]
     },
     "metadata": {},
     "output_type": "display_data"
    }
   ],
   "source": [
    "# Plot the data using pandas\n",
    "ia_river_2008.plot(y='Discharge')"
   ]
  },
  {
   "cell_type": "code",
   "execution_count": 11,
   "metadata": {},
   "outputs": [
    {
     "data": {
      "text/html": [
       "<div>\n",
       "<style scoped>\n",
       "    .dataframe tbody tr th:only-of-type {\n",
       "        vertical-align: middle;\n",
       "    }\n",
       "\n",
       "    .dataframe tbody tr th {\n",
       "        vertical-align: top;\n",
       "    }\n",
       "\n",
       "    .dataframe thead th {\n",
       "        text-align: right;\n",
       "    }\n",
       "</style>\n",
       "<table border=\"1\" class=\"dataframe\">\n",
       "  <thead>\n",
       "    <tr style=\"text-align: right;\">\n",
       "      <th></th>\n",
       "      <th>Discharge</th>\n",
       "    </tr>\n",
       "    <tr>\n",
       "      <th>Date</th>\n",
       "      <th></th>\n",
       "    </tr>\n",
       "  </thead>\n",
       "  <tbody>\n",
       "    <tr>\n",
       "      <th>1903-12-31</th>\n",
       "      <td>21700.0</td>\n",
       "    </tr>\n",
       "    <tr>\n",
       "      <th>1904-12-31</th>\n",
       "      <td>8880.0</td>\n",
       "    </tr>\n",
       "    <tr>\n",
       "      <th>1905-12-31</th>\n",
       "      <td>8540.0</td>\n",
       "    </tr>\n",
       "    <tr>\n",
       "      <th>1906-12-31</th>\n",
       "      <td>11400.0</td>\n",
       "    </tr>\n",
       "    <tr>\n",
       "      <th>1907-12-31</th>\n",
       "      <td>4900.0</td>\n",
       "    </tr>\n",
       "    <tr>\n",
       "      <th>...</th>\n",
       "      <td>...</td>\n",
       "    </tr>\n",
       "    <tr>\n",
       "      <th>2019-12-31</th>\n",
       "      <td>12600.0</td>\n",
       "    </tr>\n",
       "    <tr>\n",
       "      <th>2020-12-31</th>\n",
       "      <td>10400.0</td>\n",
       "    </tr>\n",
       "    <tr>\n",
       "      <th>2021-12-31</th>\n",
       "      <td>7910.0</td>\n",
       "    </tr>\n",
       "    <tr>\n",
       "      <th>2022-12-31</th>\n",
       "      <td>6770.0</td>\n",
       "    </tr>\n",
       "    <tr>\n",
       "      <th>2023-12-31</th>\n",
       "      <td>6480.0</td>\n",
       "    </tr>\n",
       "  </tbody>\n",
       "</table>\n",
       "<p>121 rows × 1 columns</p>\n",
       "</div>"
      ],
      "text/plain": [
       "            Discharge\n",
       "Date                 \n",
       "1903-12-31    21700.0\n",
       "1904-12-31     8880.0\n",
       "1905-12-31     8540.0\n",
       "1906-12-31    11400.0\n",
       "1907-12-31     4900.0\n",
       "...               ...\n",
       "2019-12-31    12600.0\n",
       "2020-12-31    10400.0\n",
       "2021-12-31     7910.0\n",
       "2022-12-31     6770.0\n",
       "2023-12-31     6480.0\n",
       "\n",
       "[121 rows x 1 columns]"
      ]
     },
     "execution_count": 11,
     "metadata": {},
     "output_type": "execute_result"
    }
   ],
   "source": [
    "# Resample data to look at annual maximum discharge\n",
    "ia_river_annual_max = iowa_river_flow[['Discharge']].resample('Y').max()\n",
    "ia_river_annual_max"
   ]
  },
  {
   "cell_type": "code",
   "execution_count": 12,
   "metadata": {},
   "outputs": [
    {
     "data": {
      "text/plain": [
       "Discharge    40900.0\n",
       "dtype: float64"
      ]
     },
     "execution_count": 12,
     "metadata": {},
     "output_type": "execute_result"
    }
   ],
   "source": [
    "# What is the maximum value?\n",
    "ia_river_annual_max.max()"
   ]
  },
  {
   "cell_type": "code",
   "execution_count": 13,
   "metadata": {},
   "outputs": [
    {
     "data": {
      "image/png": "[encoded data removed]",
      "text/plain": [
       "<Figure size 800x400 with 1 Axes>"
      ]
     },
     "metadata": {},
     "output_type": "display_data"
    }
   ],
   "source": [
    "# Plot the data using matplotlib\n",
    "\n",
    "# Define figure (fig) and axis (ax) objects\n",
    "fig, ax = plt.subplots(figsize=(8,4))\n",
    "\n",
    "# Create bar plot using ax.bar\n",
    "ax.bar(ia_river_annual_max.index.year.values,\n",
    "       ia_river_annual_max['Discharge'],\n",
    "       color = 'gold',\n",
    "       edgecolor='black')\n",
    "\n",
    "# Define axis title and labels\n",
    "ax.set(title=\"Annual Maximum Discharge\\nIowa River @ Iowa City, IA (1903-2023)\",\n",
    "       xlabel=\"Year\",\n",
    "       ylabel='Discharge (cfs)')\n",
    "\n",
    "plt.show()"
   ]
  },
  {
   "cell_type": "code",
   "execution_count": 14,
   "metadata": {},
   "outputs": [
    {
     "data": {
      "text/plain": [
       "Discharge    40900.0\n",
       "Name: 2008-12-31 00:00:00, dtype: float64"
      ]
     },
     "execution_count": 14,
     "metadata": {},
     "output_type": "execute_result"
    }
   ],
   "source": [
    "# What is the value of the df @ row 105 (aka 2008)?\n",
    "ia_river_annual_max.iloc[105,:]"
   ]
  },
  {
   "cell_type": "code",
   "execution_count": 15,
   "metadata": {},
   "outputs": [
    {
     "data": {
      "text/plain": [
       "121"
      ]
     },
     "execution_count": 15,
     "metadata": {},
     "output_type": "execute_result"
    }
   ],
   "source": [
    "# How many rows in this data?\n",
    "len(ia_river_annual_max)"
   ]
  },
  {
   "cell_type": "markdown",
   "metadata": {},
   "source": [
    "### Plot description\n",
    "In 2008, the Iowa River saw the largest annual maximum discharge on record (40,900 cfs), going back to 1903 (121 years). Based on these data, this flooding event would be a 1 in 121 year flood, and would have a 0.008% (~1/122) liklihood of happening in any given year."
   ]
  },
  {
   "cell_type": "code",
   "execution_count": 16,
   "metadata": {},
   "outputs": [
    {
     "data": {
      "text/html": [
       "<div>\n",
       "<style scoped>\n",
       "    .dataframe tbody tr th:only-of-type {\n",
       "        vertical-align: middle;\n",
       "    }\n",
       "\n",
       "    .dataframe tbody tr th {\n",
       "        vertical-align: top;\n",
       "    }\n",
       "\n",
       "    .dataframe thead th {\n",
       "        text-align: right;\n",
       "    }\n",
       "</style>\n",
       "<table border=\"1\" class=\"dataframe\">\n",
       "  <thead>\n",
       "    <tr style=\"text-align: right;\">\n",
       "      <th></th>\n",
       "      <th>rank</th>\n",
       "      <th>Discharge</th>\n",
       "      <th>probability</th>\n",
       "      <th>return-years</th>\n",
       "    </tr>\n",
       "    <tr>\n",
       "      <th>Date</th>\n",
       "      <th></th>\n",
       "      <th></th>\n",
       "      <th></th>\n",
       "      <th></th>\n",
       "    </tr>\n",
       "  </thead>\n",
       "  <tbody>\n",
       "    <tr>\n",
       "      <th>1934-12-31</th>\n",
       "      <td>1</td>\n",
       "      <td>1840.0</td>\n",
       "      <td>0.991803</td>\n",
       "      <td>1.008264</td>\n",
       "    </tr>\n",
       "    <tr>\n",
       "      <th>1956-12-31</th>\n",
       "      <td>2</td>\n",
       "      <td>2100.0</td>\n",
       "      <td>0.983607</td>\n",
       "      <td>1.016667</td>\n",
       "    </tr>\n",
       "    <tr>\n",
       "      <th>1989-12-31</th>\n",
       "      <td>3</td>\n",
       "      <td>2670.0</td>\n",
       "      <td>0.975410</td>\n",
       "      <td>1.025210</td>\n",
       "    </tr>\n",
       "    <tr>\n",
       "      <th>1940-12-31</th>\n",
       "      <td>4</td>\n",
       "      <td>2800.0</td>\n",
       "      <td>0.967213</td>\n",
       "      <td>1.033898</td>\n",
       "    </tr>\n",
       "    <tr>\n",
       "      <th>1968-12-31</th>\n",
       "      <td>5</td>\n",
       "      <td>2920.0</td>\n",
       "      <td>0.959016</td>\n",
       "      <td>1.042735</td>\n",
       "    </tr>\n",
       "    <tr>\n",
       "      <th>...</th>\n",
       "      <td>...</td>\n",
       "      <td>...</td>\n",
       "      <td>...</td>\n",
       "      <td>...</td>\n",
       "    </tr>\n",
       "    <tr>\n",
       "      <th>1993-12-31</th>\n",
       "      <td>117</td>\n",
       "      <td>26200.0</td>\n",
       "      <td>0.040984</td>\n",
       "      <td>24.400000</td>\n",
       "    </tr>\n",
       "    <tr>\n",
       "      <th>1944-12-31</th>\n",
       "      <td>118</td>\n",
       "      <td>30100.0</td>\n",
       "      <td>0.032787</td>\n",
       "      <td>30.500000</td>\n",
       "    </tr>\n",
       "    <tr>\n",
       "      <th>1947-12-31</th>\n",
       "      <td>119</td>\n",
       "      <td>32600.0</td>\n",
       "      <td>0.024590</td>\n",
       "      <td>40.666667</td>\n",
       "    </tr>\n",
       "    <tr>\n",
       "      <th>1918-12-31</th>\n",
       "      <td>120</td>\n",
       "      <td>40500.0</td>\n",
       "      <td>0.016393</td>\n",
       "      <td>61.000000</td>\n",
       "    </tr>\n",
       "    <tr>\n",
       "      <th>2008-12-31</th>\n",
       "      <td>121</td>\n",
       "      <td>40900.0</td>\n",
       "      <td>0.008197</td>\n",
       "      <td>122.000000</td>\n",
       "    </tr>\n",
       "  </tbody>\n",
       "</table>\n",
       "<p>121 rows × 4 columns</p>\n",
       "</div>"
      ],
      "text/plain": [
       "            rank  Discharge  probability  return-years\n",
       "Date                                                  \n",
       "1934-12-31     1     1840.0     0.991803      1.008264\n",
       "1956-12-31     2     2100.0     0.983607      1.016667\n",
       "1989-12-31     3     2670.0     0.975410      1.025210\n",
       "1940-12-31     4     2800.0     0.967213      1.033898\n",
       "1968-12-31     5     2920.0     0.959016      1.042735\n",
       "...          ...        ...          ...           ...\n",
       "1993-12-31   117    26200.0     0.040984     24.400000\n",
       "1944-12-31   118    30100.0     0.032787     30.500000\n",
       "1947-12-31   119    32600.0     0.024590     40.666667\n",
       "1918-12-31   120    40500.0     0.016393     61.000000\n",
       "2008-12-31   121    40900.0     0.008197    122.000000\n",
       "\n",
       "[121 rows x 4 columns]"
      ]
     },
     "execution_count": 16,
     "metadata": {},
     "output_type": "execute_result"
    }
   ],
   "source": [
    "# Sort data smallest to largest\n",
    "ia_river_discharge_sorted = ia_river_annual_max.sort_values(by=\"Discharge\")\n",
    "\n",
    "# Count total obervations\n",
    "n = ia_river_discharge_sorted.shape[0]\n",
    "\n",
    "# Add a numbered column 1 -> n to use in return calculation for rank\n",
    "ia_river_discharge_sorted.insert(0, 'rank', range(1, 1 + n))\n",
    "\n",
    "# Calculate probability - note you may need to adjust this value based upon the time period of your data\n",
    "ia_river_discharge_sorted[\"probability\"] = (\n",
    "    (n - ia_river_discharge_sorted[\"rank\"] + 1) / (n + 1))\n",
    "ia_river_discharge_sorted[\"return-years\"] = (\n",
    "    1 / ia_river_discharge_sorted[\"probability\"])\n",
    "\n",
    "ia_river_discharge_sorted"
   ]
  },
  {
   "cell_type": "code",
   "execution_count": 17,
   "metadata": {},
   "outputs": [],
   "source": [
    "%%capture\n",
    "%%bash\n",
    "jupyter nbconvert 08-iowa-flood.ipynb --to html"
   ]
  }
 ],
 "metadata": {
  "kernelspec": {
   "display_name": "base",
   "language": "python",
   "name": "python3"
  },
  "language_info": {
   "codemirror_mode": {
    "name": "ipython",
    "version": 3
   },
   "file_extension": ".py",
   "mimetype": "text/x-python",
   "name": "python",
   "nbconvert_exporter": "python",
   "pygments_lexer": "ipython3",
   "version": "3.10.11"
  },
  "orig_nbformat": 4
 },
 "nbformat": 4,
 "nbformat_minor": 2
}
